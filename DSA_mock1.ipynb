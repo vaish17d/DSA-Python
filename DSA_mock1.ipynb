{
  "nbformat": 4,
  "nbformat_minor": 0,
  "metadata": {
    "colab": {
      "provenance": []
    },
    "kernelspec": {
      "name": "python3",
      "display_name": "Python 3"
    },
    "language_info": {
      "name": "python"
    }
  },
  "cells": [
    {
      "cell_type": "code",
      "execution_count": 7,
      "metadata": {
        "colab": {
          "base_uri": "https://localhost:8080/"
        },
        "id": "SdmLuJbn6jjM",
        "outputId": "f27160df-a951-4878-87cc-ab3fa1ad67ac"
      },
      "outputs": [
        {
          "output_type": "stream",
          "name": "stdout",
          "text": [
            "[1, 3, 12, 0, 0]\n"
          ]
        }
      ],
      "source": [
        "#Move zeros\n",
        "#Given an integer array nums, move all 0's to the end of it while maintaining the relative order of the non-zero elements.\n",
        "#Example,  Input: nums = [0,1,0,3,12]   Output: [1,3,12,0,0]\n",
        "\n",
        "def moveAllZerosToEnd(arr):\n",
        "  l=0\n",
        "  for i in range(len(arr)):\n",
        "    if arr[i] != 0:\n",
        "      arr[l], arr[i] = arr[i], arr[l]\n",
        "      l += 1\n",
        "  return arr\n",
        "\n",
        "arr = [0,1,0,3,12]\n",
        "result = moveAllZerosToEnd(arr)\n",
        "print(result)\n",
        "\n",
        "#Time complexity : O(n)\n",
        "#Space complexity : O(1)"
      ]
    },
    {
      "cell_type": "code",
      "source": [
        "#First Unique Character in a String\n",
        "#Given a string s, find the first non-repeating character in it and return its index. If it does not exist, return -1.\n",
        "#Example,  Input: s = \"loveleetcode\"   Output: 2\n",
        "\n",
        "def firstUniqueChar(s):\n",
        "  for i in range(len(s)):\n",
        "    if s[i] not in s[:i] and s[i] not in s[i+1:]:\n",
        "      return i\n",
        "  return -1\n",
        "\n",
        "s = input()\n",
        "result = firstUniqueChar(s)\n",
        "print(result)\n",
        "\n",
        "#Time complexity : O(n)\n",
        "#Space complexity : O(1)"
      ],
      "metadata": {
        "colab": {
          "base_uri": "https://localhost:8080/"
        },
        "id": "HLB3oCuGACty",
        "outputId": "787cac92-ba2b-4201-953f-35d646f1b686"
      },
      "execution_count": 4,
      "outputs": [
        {
          "output_type": "stream",
          "name": "stdout",
          "text": [
            "loveleetcode\n",
            "2\n"
          ]
        }
      ]
    }
  ]
}